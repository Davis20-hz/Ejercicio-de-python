{
  "nbformat": 4,
  "nbformat_minor": 0,
  "metadata": {
    "colab": {
      "provenance": [],
      "authorship_tag": "ABX9TyOdVZMVovn1tEC8cNqHZmR0",
      "include_colab_link": true
    },
    "kernelspec": {
      "name": "python3",
      "display_name": "Python 3"
    },
    "language_info": {
      "name": "python"
    }
  },
  "cells": [
    {
      "cell_type": "markdown",
      "metadata": {
        "id": "view-in-github",
        "colab_type": "text"
      },
      "source": [
        "<a href=\"https://colab.research.google.com/github/Davis20-hz/Ejercicio-de-python/blob/main/Primera_clase.ipynb\" target=\"_parent\"><img src=\"https://colab.research.google.com/assets/colab-badge.svg\" alt=\"Open In Colab\"/></a>"
      ]
    },
    {
      "cell_type": "code",
      "execution_count": null,
      "metadata": {
        "id": "U59oNdEA8Whb"
      },
      "outputs": [],
      "source": []
    },
    {
      "cell_type": "markdown",
      "source": [
        "\\begin{equation}\n",
        "y=mx+b\n",
        "\\end{equation}\n",
        "\n",
        "m es la pendiente de la recta"
      ],
      "metadata": {
        "id": "_Dv-n6r_8bvZ"
      }
    },
    {
      "cell_type": "markdown",
      "source": [
        "##variable en python"
      ],
      "metadata": {
        "id": "ruxzn1iW82dp"
      }
    },
    {
      "cell_type": "markdown",
      "source": [],
      "metadata": {
        "id": "MyL_g37L9AGN"
      }
    }
  ]
}