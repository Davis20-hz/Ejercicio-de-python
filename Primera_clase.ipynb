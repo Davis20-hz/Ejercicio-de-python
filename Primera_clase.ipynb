{
  "nbformat": 4,
  "nbformat_minor": 0,
  "metadata": {
    "colab": {
      "provenance": [],
      "authorship_tag": "ABX9TyM+PqNwpreEBxFj2/Pd/MFq",
      "include_colab_link": true
    },
    "kernelspec": {
      "name": "python3",
      "display_name": "Python 3"
    },
    "language_info": {
      "name": "python"
    }
  },
  "cells": [
    {
      "cell_type": "markdown",
      "metadata": {
        "id": "view-in-github",
        "colab_type": "text"
      },
      "source": [
        "<a href=\"https://colab.research.google.com/github/Davis20-hz/Ejercicio-de-python/blob/main/Primera_clase.ipynb\" target=\"_parent\"><img src=\"https://colab.research.google.com/assets/colab-badge.svg\" alt=\"Open In Colab\"/></a>"
      ]
    },
    {
      "cell_type": "markdown",
      "source": [
        "\\begin{equation}\n",
        "y=mx+b\n",
        "\\end{equation}\n",
        "\n",
        "m es la pendiente de la recta"
      ],
      "metadata": {
        "id": "_Dv-n6r_8bvZ"
      }
    },
    {
      "cell_type": "markdown",
      "source": [
        "##variable en python"
      ],
      "metadata": {
        "id": "ruxzn1iW82dp"
      }
    },
    {
      "cell_type": "markdown",
      "source": [],
      "metadata": {
        "id": "MyL_g37L9AGN"
      }
    },
    {
      "cell_type": "code",
      "source": [
        "a=1  # variable de tipo entera\n",
        "b=3.14  # variable de punto flotante\n",
        "c= \"hola mundo\" # variable de tipo cadena (string)\n",
        "print(a,b,c) # imprimir en pantalla las varibles (y el texto)"
      ],
      "metadata": {
        "colab": {
          "base_uri": "https://localhost:8080/"
        },
        "id": "Ibt4nBHU_9rU",
        "outputId": "46c898e4-1195-41e5-c405-1f0bcd69b7c8"
      },
      "execution_count": 38,
      "outputs": [
        {
          "output_type": "stream",
          "name": "stdout",
          "text": [
            "1 3.14 hola mundo\n"
          ]
        }
      ]
    },
    {
      "cell_type": "code",
      "source": [
        "x=str(3)\n",
        "y=int(3)\n",
        "z=float(3)\n",
        "print(x,y,z)\n"
      ],
      "metadata": {
        "colab": {
          "base_uri": "https://localhost:8080/"
        },
        "id": "7CaJdyfGA6pF",
        "outputId": "6b1cad89-dc9a-419c-8736-b0812443df92"
      },
      "execution_count": 39,
      "outputs": [
        {
          "output_type": "stream",
          "name": "stdout",
          "text": [
            "3 3 3.0\n"
          ]
        }
      ]
    },
    {
      "cell_type": "code",
      "source": [
        "print(type(x),type(y),type(z))"
      ],
      "metadata": {
        "colab": {
          "base_uri": "https://localhost:8080/"
        },
        "id": "59S-3uoHBKyX",
        "outputId": "e2b38aa9-4781-488e-8f9a-b098841fa2b4"
      },
      "execution_count": 40,
      "outputs": [
        {
          "output_type": "stream",
          "name": "stdout",
          "text": [
            "<class 'str'> <class 'int'> <class 'float'>\n"
          ]
        }
      ]
    },
    {
      "cell_type": "code",
      "source": [
        "# cadena\n",
        "p=\"david\"\n",
        "q='david'\n",
        "print(p,q)"
      ],
      "metadata": {
        "colab": {
          "base_uri": "https://localhost:8080/"
        },
        "id": "PJmSU34TCVPX",
        "outputId": "86660339-d7d4-4adf-e259-ace5859579f5"
      },
      "execution_count": 41,
      "outputs": [
        {
          "output_type": "stream",
          "name": "stdout",
          "text": [
            "david david\n"
          ]
        }
      ]
    },
    {
      "cell_type": "code",
      "source": [
        "m=7.4\n",
        "M=\"mi nombre\"\n",
        "print(m,M)"
      ],
      "metadata": {
        "colab": {
          "base_uri": "https://localhost:8080/"
        },
        "id": "y3wBuupIC1vN",
        "outputId": "a9b84044-c106-42a5-e992-b8f4c98c9171"
      },
      "execution_count": 42,
      "outputs": [
        {
          "output_type": "stream",
          "name": "stdout",
          "text": [
            "7.4 mi nombre\n"
          ]
        }
      ]
    },
    {
      "cell_type": "code",
      "source": [
        "x,y,z=1,2,3\n",
        "print(x,y,z)"
      ],
      "metadata": {
        "colab": {
          "base_uri": "https://localhost:8080/"
        },
        "id": "H1aeECcKD-Hk",
        "outputId": "db0e9004-0ca1-4161-f814-528e28d73d35"
      },
      "execution_count": 43,
      "outputs": [
        {
          "output_type": "stream",
          "name": "stdout",
          "text": [
            "1 2 3\n"
          ]
        }
      ]
    },
    {
      "cell_type": "code",
      "source": [
        "## calcula el area de un triangulo\n",
        "# area(a), base(b), altura(h)\n",
        "b=15  #valor de la base\n",
        "h=20  #valor de la altura\n",
        "a=b*h/2\n",
        "print('El area del triangulo es: ',a,' unidades cuadradas')"
      ],
      "metadata": {
        "colab": {
          "base_uri": "https://localhost:8080/"
        },
        "id": "DKz9hwcBEjLi",
        "outputId": "1fab6ee3-23e6-4dd1-dc43-0f25fadb2ca9"
      },
      "execution_count": 44,
      "outputs": [
        {
          "output_type": "stream",
          "name": "stdout",
          "text": [
            "El area del triangulo es:  150.0  unidades cuadradas\n"
          ]
        }
      ]
    },
    {
      "cell_type": "code",
      "source": [
        "15//4"
      ],
      "metadata": {
        "colab": {
          "base_uri": "https://localhost:8080/"
        },
        "id": "o04dFNG-F2DM",
        "outputId": "e8f5d80d-2574-4bae-e030-822f00cb3a98"
      },
      "execution_count": 45,
      "outputs": [
        {
          "output_type": "execute_result",
          "data": {
            "text/plain": [
              "3"
            ]
          },
          "metadata": {},
          "execution_count": 45
        }
      ]
    },
    {
      "cell_type": "code",
      "source": [
        "suma=15+16\n",
        "suma"
      ],
      "metadata": {
        "colab": {
          "base_uri": "https://localhost:8080/"
        },
        "id": "rIBwr-6oGCyz",
        "outputId": "99010951-c9fc-4812-da54-8d121dd1dcb7"
      },
      "execution_count": 46,
      "outputs": [
        {
          "output_type": "execute_result",
          "data": {
            "text/plain": [
              "31"
            ]
          },
          "metadata": {},
          "execution_count": 46
        }
      ]
    },
    {
      "cell_type": "code",
      "source": [
        "divide=17/3\n",
        "divide"
      ],
      "metadata": {
        "colab": {
          "base_uri": "https://localhost:8080/"
        },
        "id": "jGmFiArDGZg5",
        "outputId": "fbd872c6-0d1f-46b9-8b27-3ea219418024"
      },
      "execution_count": 47,
      "outputs": [
        {
          "output_type": "execute_result",
          "data": {
            "text/plain": [
              "5.666666666666667"
            ]
          },
          "metadata": {},
          "execution_count": 47
        }
      ]
    },
    {
      "cell_type": "code",
      "source": [
        "a=5**8\n",
        "a"
      ],
      "metadata": {
        "colab": {
          "base_uri": "https://localhost:8080/"
        },
        "id": "CTpKxRb5GgAQ",
        "outputId": "92fb0f5d-93de-4700-9a4e-2419cd5555bd"
      },
      "execution_count": 48,
      "outputs": [
        {
          "output_type": "execute_result",
          "data": {
            "text/plain": [
              "390625"
            ]
          },
          "metadata": {},
          "execution_count": 48
        }
      ]
    },
    {
      "cell_type": "code",
      "source": [
        "25**(1/2) #raiz cuadrada\n"
      ],
      "metadata": {
        "colab": {
          "base_uri": "https://localhost:8080/"
        },
        "id": "kA96vSo1HHD-",
        "outputId": "bcabd638-fdfb-418a-aff5-dac7aaa56ac7"
      },
      "execution_count": 49,
      "outputs": [
        {
          "output_type": "execute_result",
          "data": {
            "text/plain": [
              "5.0"
            ]
          },
          "metadata": {},
          "execution_count": 49
        }
      ]
    },
    {
      "cell_type": "code",
      "source": [
        "# palabras reservadasd en python\n",
        "import keyword\n",
        "print(keyword.kwlist)"
      ],
      "metadata": {
        "colab": {
          "base_uri": "https://localhost:8080/"
        },
        "id": "EcPoVBagHW5N",
        "outputId": "e6d93a49-395c-48c0-dcde-155f6ec1145b"
      },
      "execution_count": 50,
      "outputs": [
        {
          "output_type": "stream",
          "name": "stdout",
          "text": [
            "['False', 'None', 'True', 'and', 'as', 'assert', 'async', 'await', 'break', 'class', 'continue', 'def', 'del', 'elif', 'else', 'except', 'finally', 'for', 'from', 'global', 'if', 'import', 'in', 'is', 'lambda', 'nonlocal', 'not', 'or', 'pass', 'raise', 'return', 'try', 'while', 'with', 'yield']\n"
          ]
        }
      ]
    },
    {
      "cell_type": "code",
      "source": [
        "# numeros complejos\n",
        "comp=2+3j\n",
        "print(comp, type(comp))\n"
      ],
      "metadata": {
        "colab": {
          "base_uri": "https://localhost:8080/"
        },
        "id": "bWaPDVtYH3Nz",
        "outputId": "e369efbb-b1a6-4a64-9d05-5bd6b978a5ab"
      },
      "execution_count": 51,
      "outputs": [
        {
          "output_type": "stream",
          "name": "stdout",
          "text": [
            "(2+3j) <class 'complex'>\n"
          ]
        }
      ]
    },
    {
      "cell_type": "code",
      "source": [
        "#primer ejercio de clase\n",
        "c= 25 #temperatura en celcius\n",
        "f= (c*(9/5))+32 #temperatura en fahrenheit\n",
        "k= c+ 273.15 #temperatura en kelvin\n",
        "r= (c+275.15)*(9/5) #temperatura en rankine\n",
        "print (f,k,r)\n"
      ],
      "metadata": {
        "colab": {
          "base_uri": "https://localhost:8080/"
        },
        "id": "D1c1ArnvIKTe",
        "outputId": "680907a8-c6dc-4995-e3f3-3c7cb41613f9"
      },
      "execution_count": 52,
      "outputs": [
        {
          "output_type": "stream",
          "name": "stdout",
          "text": [
            "77.0 298.15 540.27\n"
          ]
        }
      ]
    }
  ]
}